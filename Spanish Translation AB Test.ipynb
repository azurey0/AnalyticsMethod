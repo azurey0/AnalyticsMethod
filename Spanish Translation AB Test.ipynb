{
 "cells": [
  {
   "cell_type": "code",
   "execution_count": 91,
   "id": "e3c21ba2",
   "metadata": {},
   "outputs": [],
   "source": [
    "import pandas as pd\n",
    "import seaborn as sns\n",
    "import numpy as np\n",
    "import matplotlib.pyplot as plt\n",
    "\n",
    "from IPython.core.interactiveshell import InteractiveShell\n",
    "InteractiveShell.ast_node_interactivity = \"all\""
   ]
  },
  {
   "cell_type": "code",
   "execution_count": 2,
   "id": "6a779a28",
   "metadata": {},
   "outputs": [],
   "source": [
    "test = pd.read_csv(\"test_table.csv\")"
   ]
  },
  {
   "cell_type": "code",
   "execution_count": 3,
   "id": "9ad27314",
   "metadata": {},
   "outputs": [
    {
     "data": {
      "text/plain": [
       "user_id             False\n",
       "date                False\n",
       "source              False\n",
       "device              False\n",
       "browser_language    False\n",
       "ads_channel          True\n",
       "browser             False\n",
       "conversion          False\n",
       "test                False\n",
       "dtype: bool"
      ]
     },
     "execution_count": 3,
     "metadata": {},
     "output_type": "execute_result"
    }
   ],
   "source": [
    "test.isna().any()"
   ]
  },
  {
   "cell_type": "code",
   "execution_count": 6,
   "id": "e240d79c",
   "metadata": {},
   "outputs": [
    {
     "name": "stdout",
     "output_type": "stream",
     "text": [
      "<class 'pandas.core.frame.DataFrame'>\n",
      "RangeIndex: 453321 entries, 0 to 453320\n",
      "Data columns (total 9 columns):\n",
      " #   Column            Non-Null Count   Dtype \n",
      "---  ------            --------------   ----- \n",
      " 0   user_id           453321 non-null  int64 \n",
      " 1   date              453321 non-null  object\n",
      " 2   source            453321 non-null  object\n",
      " 3   device            453321 non-null  object\n",
      " 4   browser_language  453321 non-null  object\n",
      " 5   ads_channel       181877 non-null  object\n",
      " 6   browser           453321 non-null  object\n",
      " 7   conversion        453321 non-null  int64 \n",
      " 8   test              453321 non-null  int64 \n",
      "dtypes: int64(3), object(6)\n",
      "memory usage: 31.1+ MB\n"
     ]
    }
   ],
   "source": [
    "test.info()"
   ]
  },
  {
   "cell_type": "code",
   "execution_count": 7,
   "id": "bfeaa4d6",
   "metadata": {},
   "outputs": [
    {
     "data": {
      "text/html": [
       "<div>\n",
       "<style scoped>\n",
       "    .dataframe tbody tr th:only-of-type {\n",
       "        vertical-align: middle;\n",
       "    }\n",
       "\n",
       "    .dataframe tbody tr th {\n",
       "        vertical-align: top;\n",
       "    }\n",
       "\n",
       "    .dataframe thead th {\n",
       "        text-align: right;\n",
       "    }\n",
       "</style>\n",
       "<table border=\"1\" class=\"dataframe\">\n",
       "  <thead>\n",
       "    <tr style=\"text-align: right;\">\n",
       "      <th></th>\n",
       "      <th>user_id</th>\n",
       "      <th>date</th>\n",
       "      <th>source</th>\n",
       "      <th>device</th>\n",
       "      <th>browser_language</th>\n",
       "      <th>ads_channel</th>\n",
       "      <th>browser</th>\n",
       "      <th>conversion</th>\n",
       "      <th>test</th>\n",
       "    </tr>\n",
       "  </thead>\n",
       "  <tbody>\n",
       "    <tr>\n",
       "      <th>0</th>\n",
       "      <td>315281</td>\n",
       "      <td>2015-12-03</td>\n",
       "      <td>Direct</td>\n",
       "      <td>Web</td>\n",
       "      <td>ES</td>\n",
       "      <td>NaN</td>\n",
       "      <td>IE</td>\n",
       "      <td>1</td>\n",
       "      <td>0</td>\n",
       "    </tr>\n",
       "    <tr>\n",
       "      <th>1</th>\n",
       "      <td>497851</td>\n",
       "      <td>2015-12-04</td>\n",
       "      <td>Ads</td>\n",
       "      <td>Web</td>\n",
       "      <td>ES</td>\n",
       "      <td>Google</td>\n",
       "      <td>IE</td>\n",
       "      <td>0</td>\n",
       "      <td>1</td>\n",
       "    </tr>\n",
       "    <tr>\n",
       "      <th>2</th>\n",
       "      <td>848402</td>\n",
       "      <td>2015-12-04</td>\n",
       "      <td>Ads</td>\n",
       "      <td>Web</td>\n",
       "      <td>ES</td>\n",
       "      <td>Facebook</td>\n",
       "      <td>Chrome</td>\n",
       "      <td>0</td>\n",
       "      <td>0</td>\n",
       "    </tr>\n",
       "  </tbody>\n",
       "</table>\n",
       "</div>"
      ],
      "text/plain": [
       "   user_id        date  source device browser_language ads_channel browser  \\\n",
       "0   315281  2015-12-03  Direct    Web               ES         NaN      IE   \n",
       "1   497851  2015-12-04     Ads    Web               ES      Google      IE   \n",
       "2   848402  2015-12-04     Ads    Web               ES    Facebook  Chrome   \n",
       "\n",
       "   conversion  test  \n",
       "0           1     0  \n",
       "1           0     1  \n",
       "2           0     0  "
      ]
     },
     "execution_count": 7,
     "metadata": {},
     "output_type": "execute_result"
    }
   ],
   "source": [
    "test[:3]"
   ]
  },
  {
   "cell_type": "markdown",
   "id": "0652d496",
   "metadata": {},
   "source": [
    "###  Confirm that the test is actually negative. "
   ]
  },
  {
   "cell_type": "code",
   "execution_count": 9,
   "id": "66745292",
   "metadata": {},
   "outputs": [
    {
     "data": {
      "text/plain": [
       "(215983, 9)"
      ]
     },
     "execution_count": 9,
     "metadata": {},
     "output_type": "execute_result"
    },
    {
     "data": {
      "text/plain": [
       "(237338, 9)"
      ]
     },
     "execution_count": 9,
     "metadata": {},
     "output_type": "execute_result"
    }
   ],
   "source": [
    "test_g = test[test['test'] == 1]\n",
    "ctrl_g = test[test['test'] == 0]\n",
    "test_g.shape\n",
    "ctrl_g.shape"
   ]
  },
  {
   "cell_type": "code",
   "execution_count": 10,
   "id": "e43340d9",
   "metadata": {},
   "outputs": [
    {
     "data": {
      "text/plain": [
       "0.9100228366296168"
      ]
     },
     "execution_count": 10,
     "metadata": {},
     "output_type": "execute_result"
    }
   ],
   "source": [
    "test_g.shape[0]/ctrl_g.shape[0]"
   ]
  },
  {
   "cell_type": "code",
   "execution_count": 13,
   "id": "51b55dd3",
   "metadata": {},
   "outputs": [
    {
     "data": {
      "text/plain": [
       "Ttest_indResult(statistic=-18.312271285740266, pvalue=3.5153883721563386e-75)"
      ]
     },
     "execution_count": 13,
     "metadata": {},
     "output_type": "execute_result"
    }
   ],
   "source": [
    "from scipy import stats\n",
    "\n",
    "stats.ttest_ind(test_g['conversion'], ctrl_g['conversion'], equal_var=False, alternative = 'less')"
   ]
  },
  {
   "cell_type": "markdown",
   "id": "ab755985",
   "metadata": {},
   "source": [
    "H0: test is greater or equal to control in conversion  \n",
    "H1: test is less than control in conversion  \n",
    "The p-value < 0.001, so the test is negative."
   ]
  },
  {
   "cell_type": "markdown",
   "id": "4b332b51",
   "metadata": {},
   "source": [
    "### Investigate reasons"
   ]
  },
  {
   "cell_type": "code",
   "execution_count": 17,
   "id": "992ffa40",
   "metadata": {},
   "outputs": [
    {
     "data": {
      "text/plain": [
       "user_id    False\n",
       "sex        False\n",
       "age        False\n",
       "country    False\n",
       "dtype: bool"
      ]
     },
     "execution_count": 17,
     "metadata": {},
     "output_type": "execute_result"
    }
   ],
   "source": [
    "user = pd.read_csv(\"user_table.csv\")\n",
    "user.isna().any()"
   ]
  },
  {
   "cell_type": "code",
   "execution_count": 18,
   "id": "50275d15",
   "metadata": {},
   "outputs": [
    {
     "data": {
      "text/html": [
       "<div>\n",
       "<style scoped>\n",
       "    .dataframe tbody tr th:only-of-type {\n",
       "        vertical-align: middle;\n",
       "    }\n",
       "\n",
       "    .dataframe tbody tr th {\n",
       "        vertical-align: top;\n",
       "    }\n",
       "\n",
       "    .dataframe thead th {\n",
       "        text-align: right;\n",
       "    }\n",
       "</style>\n",
       "<table border=\"1\" class=\"dataframe\">\n",
       "  <thead>\n",
       "    <tr style=\"text-align: right;\">\n",
       "      <th></th>\n",
       "      <th>user_id</th>\n",
       "      <th>date</th>\n",
       "      <th>source</th>\n",
       "      <th>device</th>\n",
       "      <th>browser_language</th>\n",
       "      <th>ads_channel</th>\n",
       "      <th>browser</th>\n",
       "      <th>conversion</th>\n",
       "      <th>test</th>\n",
       "      <th>sex</th>\n",
       "      <th>age</th>\n",
       "      <th>country</th>\n",
       "    </tr>\n",
       "  </thead>\n",
       "  <tbody>\n",
       "    <tr>\n",
       "      <th>0</th>\n",
       "      <td>315281</td>\n",
       "      <td>2015-12-03</td>\n",
       "      <td>Direct</td>\n",
       "      <td>Web</td>\n",
       "      <td>ES</td>\n",
       "      <td>NaN</td>\n",
       "      <td>IE</td>\n",
       "      <td>1</td>\n",
       "      <td>0</td>\n",
       "      <td>M</td>\n",
       "      <td>32</td>\n",
       "      <td>Spain</td>\n",
       "    </tr>\n",
       "    <tr>\n",
       "      <th>1</th>\n",
       "      <td>497851</td>\n",
       "      <td>2015-12-04</td>\n",
       "      <td>Ads</td>\n",
       "      <td>Web</td>\n",
       "      <td>ES</td>\n",
       "      <td>Google</td>\n",
       "      <td>IE</td>\n",
       "      <td>0</td>\n",
       "      <td>1</td>\n",
       "      <td>M</td>\n",
       "      <td>21</td>\n",
       "      <td>Mexico</td>\n",
       "    </tr>\n",
       "    <tr>\n",
       "      <th>2</th>\n",
       "      <td>848402</td>\n",
       "      <td>2015-12-04</td>\n",
       "      <td>Ads</td>\n",
       "      <td>Web</td>\n",
       "      <td>ES</td>\n",
       "      <td>Facebook</td>\n",
       "      <td>Chrome</td>\n",
       "      <td>0</td>\n",
       "      <td>0</td>\n",
       "      <td>M</td>\n",
       "      <td>34</td>\n",
       "      <td>Spain</td>\n",
       "    </tr>\n",
       "  </tbody>\n",
       "</table>\n",
       "</div>"
      ],
      "text/plain": [
       "   user_id        date  source device browser_language ads_channel browser  \\\n",
       "0   315281  2015-12-03  Direct    Web               ES         NaN      IE   \n",
       "1   497851  2015-12-04     Ads    Web               ES      Google      IE   \n",
       "2   848402  2015-12-04     Ads    Web               ES    Facebook  Chrome   \n",
       "\n",
       "   conversion  test sex  age country  \n",
       "0           1     0   M   32   Spain  \n",
       "1           0     1   M   21  Mexico  \n",
       "2           0     0   M   34   Spain  "
      ]
     },
     "execution_count": 18,
     "metadata": {},
     "output_type": "execute_result"
    }
   ],
   "source": [
    "df = test.merge(user, on = 'user_id')\n",
    "df[:3]"
   ]
  },
  {
   "cell_type": "code",
   "execution_count": 21,
   "id": "e5866a87",
   "metadata": {},
   "outputs": [],
   "source": [
    "test_g = df[df['test'] == 1]\n",
    "ctrl_g = df[df['test'] == 0]"
   ]
  },
  {
   "cell_type": "code",
   "execution_count": 22,
   "id": "d219c85f",
   "metadata": {},
   "outputs": [
    {
     "data": {
      "text/plain": [
       "2015-12-04    141024\n",
       "2015-12-03     99399\n",
       "2015-11-30     70948\n",
       "2015-12-01     70915\n",
       "2015-12-02     70581\n",
       "Name: date, dtype: int64"
      ]
     },
     "execution_count": 22,
     "metadata": {},
     "output_type": "execute_result"
    }
   ],
   "source": [
    "df['date'].value_counts()"
   ]
  },
  {
   "cell_type": "code",
   "execution_count": 35,
   "id": "ab95a6aa",
   "metadata": {},
   "outputs": [
    {
     "data": {
      "text/plain": [
       "<AxesSubplot:>"
      ]
     },
     "execution_count": 35,
     "metadata": {},
     "output_type": "execute_result"
    },
    {
     "data": {
      "text/plain": [
       "<AxesSubplot:>"
      ]
     },
     "execution_count": 35,
     "metadata": {},
     "output_type": "execute_result"
    },
    {
     "data": {
      "text/plain": [
       "Text(0.5, 1.0, 'Source for control and test group')"
      ]
     },
     "execution_count": 35,
     "metadata": {},
     "output_type": "execute_result"
    },
    {
     "data": {
      "text/plain": [
       "<AxesSubplot:>"
      ]
     },
     "execution_count": 35,
     "metadata": {},
     "output_type": "execute_result"
    },
    {
     "data": {
      "text/plain": [
       "<AxesSubplot:>"
      ]
     },
     "execution_count": 35,
     "metadata": {},
     "output_type": "execute_result"
    },
    {
     "data": {
      "text/plain": [
       "Text(0.5, 1.0, 'Device for control and test group')"
      ]
     },
     "execution_count": 35,
     "metadata": {},
     "output_type": "execute_result"
    },
    {
     "data": {
      "image/png": "[encoded data removed]",
      "text/plain": [
       "<Figure size 1296x432 with 2 Axes>"
      ]
     },
     "metadata": {
      "needs_background": "light"
     },
     "output_type": "display_data"
    }
   ],
   "source": [
    "fig, ax = plt.subplots(nrows=1, ncols=2, figsize=(18, 6))\n",
    "sns.barplot(y = test_g['source'].index, x = test_g['source'].values, label = 'test', color = 'blue', alpha = 0.6, ax = ax[0])\n",
    "sns.barplot(y = ctrl_g['source'].index, x = ctrl_g['source'].values, label = 'control',color = 'lightgrey', alpha = 0.6, ax = ax[0])\n",
    "ax[0].set_title('Source for control and test group')\n",
    "\n",
    "sns.barplot(y = test_g['device'].index, x = test_g['device'].values, label = 'test', color = 'green', alpha = 0.6, ax = ax[1])\n",
    "sns.barplot(y = ctrl_g['device'].index, x = ctrl_g['device'].values, label = 'control',color = 'lightgrey', alpha = 0.6, ax = ax[1])\n",
    "ax[0].set_title('Device for control and test group')"
   ]
  },
  {
   "cell_type": "code",
   "execution_count": 37,
   "id": "e5a652a8",
   "metadata": {},
   "outputs": [
    {
     "data": {
      "text/plain": [
       "<AxesSubplot:>"
      ]
     },
     "execution_count": 37,
     "metadata": {},
     "output_type": "execute_result"
    },
    {
     "data": {
      "text/plain": [
       "<AxesSubplot:>"
      ]
     },
     "execution_count": 37,
     "metadata": {},
     "output_type": "execute_result"
    },
    {
     "data": {
      "text/plain": [
       "Text(0.5, 1.0, 'Browser Language for control and test group')"
      ]
     },
     "execution_count": 37,
     "metadata": {},
     "output_type": "execute_result"
    },
    {
     "data": {
      "text/plain": [
       "<AxesSubplot:>"
      ]
     },
     "execution_count": 37,
     "metadata": {},
     "output_type": "execute_result"
    },
    {
     "data": {
      "text/plain": [
       "<AxesSubplot:>"
      ]
     },
     "execution_count": 37,
     "metadata": {},
     "output_type": "execute_result"
    },
    {
     "data": {
      "text/plain": [
       "Text(0.5, 1.0, 'Ads Channel for control and test group')"
      ]
     },
     "execution_count": 37,
     "metadata": {},
     "output_type": "execute_result"
    },
    {
     "data": {
      "text/plain": [
       "<AxesSubplot:>"
      ]
     },
     "execution_count": 37,
     "metadata": {},
     "output_type": "execute_result"
    },
    {
     "data": {
      "text/plain": [
       "<AxesSubplot:>"
      ]
     },
     "execution_count": 37,
     "metadata": {},
     "output_type": "execute_result"
    },
    {
     "data": {
      "text/plain": [
       "Text(0.5, 1.0, 'Browser for control and test group')"
      ]
     },
     "execution_count": 37,
     "metadata": {},
     "output_type": "execute_result"
    },
    {
     "data": {
      "image/png": "[encoded data removed]",
      "text/plain": [
       "<Figure size 1296x432 with 3 Axes>"
      ]
     },
     "metadata": {
      "needs_background": "light"
     },
     "output_type": "display_data"
    }
   ],
   "source": [
    "fig, ax = plt.subplots(nrows=1, ncols=3, figsize=(18, 6))\n",
    "sns.barplot(y = test_g['browser_language'].index, x = test_g['browser_language'].values, label = 'test', color = 'blue', alpha = 0.6, ax = ax[0])\n",
    "sns.barplot(y = ctrl_g['browser_language'].index, x = ctrl_g['browser_language'].values, label = 'control',color = 'lightgrey', alpha = 0.6, ax = ax[0])\n",
    "ax[0].set_title('Browser Language for control and test group')\n",
    "\n",
    "sns.barplot(y = test_g['ads_channel'].index, x = test_g['ads_channel'].values, label = 'test', color = 'green', alpha = 0.6, ax = ax[1])\n",
    "sns.barplot(y = ctrl_g['ads_channel'].index, x = ctrl_g['ads_channel'].values, label = 'control',color = 'lightgrey', alpha = 0.6, ax = ax[1])\n",
    "ax[1].set_title('Ads Channel for control and test group')\n",
    "\n",
    "sns.barplot(y = test_g['browser'].index, x = test_g['browser'].values, label = 'test', color = 'green', alpha = 0.6, ax = ax[2])\n",
    "sns.barplot(y = ctrl_g['browser'].index, x = ctrl_g['browser'].values, label = 'control',color = 'lightgrey', alpha = 0.6, ax = ax[2])\n",
    "ax[2].set_title('Browser for control and test group')\n"
   ]
  },
  {
   "cell_type": "code",
   "execution_count": 94,
   "id": "31f536c8",
   "metadata": {},
   "outputs": [
    {
     "data": {
      "text/plain": [
       "<AxesSubplot:>"
      ]
     },
     "execution_count": 94,
     "metadata": {},
     "output_type": "execute_result"
    },
    {
     "data": {
      "text/plain": [
       "<AxesSubplot:>"
      ]
     },
     "execution_count": 94,
     "metadata": {},
     "output_type": "execute_result"
    },
    {
     "data": {
      "text/plain": [
       "Text(0.5, 1.0, 'Sex for control and test group')"
      ]
     },
     "execution_count": 94,
     "metadata": {},
     "output_type": "execute_result"
    },
    {
     "data": {
      "text/plain": [
       "<AxesSubplot:>"
      ]
     },
     "execution_count": 94,
     "metadata": {},
     "output_type": "execute_result"
    },
    {
     "data": {
      "text/plain": [
       "Text(0.5, 1.0, 'Country for control and test group')"
      ]
     },
     "execution_count": 94,
     "metadata": {},
     "output_type": "execute_result"
    },
    {
     "data": {
      "image/png": "[encoded data removed]",
      "text/plain": [
       "<Figure size 1296x432 with 2 Axes>"
      ]
     },
     "metadata": {
      "needs_background": "light"
     },
     "output_type": "display_data"
    }
   ],
   "source": [
    "fig, ax = plt.subplots(nrows=1, ncols=2, figsize=(18, 6))\n",
    "sns.barplot(y = test_g['sex'].index, x = test_g['sex'].values, label = 'test', color = 'blue', alpha = 0.6, ax = ax[0])\n",
    "sns.barplot(y = ctrl_g['sex'].index, x = ctrl_g['sex'].values, label = 'control',color = 'lightgrey', alpha = 0.6, ax = ax[0])\n",
    "ax[0].set_title('Sex for control and test group')\n",
    "\n",
    "#sns.barplot(y = test_g['country'].index, x = test_g['country'].values, label = 'test', color = 'green', alpha = 0.6, ax = ax[1])\n",
    "#sns.barplot(y = ctrl_g['country'].index, x = ctrl_g['country'].values, label = 'control',color = 'grey', alpha = 0.6, ax = ax[1])\n",
    "sns.barplot(y = df['country'].index, x = df['country'].values, hue = df['test'], ax = ax[1])\n",
    "ax[1].set_title('Country for control and test group')\n",
    "ax[1].tick_params(axis='x', rotation=45)"
   ]
  },
  {
   "cell_type": "code",
   "execution_count": 71,
   "id": "eca0ccb8",
   "metadata": {},
   "outputs": [
    {
     "data": {
      "image/png": "[encoded data removed]",
      "text/plain": [
       "<Figure size 432x288 with 1 Axes>"
      ]
     },
     "metadata": {
      "needs_background": "light"
     },
     "output_type": "display_data"
    }
   ],
   "source": [
    "test_age = test_g['age'].value_counts()\n",
    "ctrl_age = ctrl_g['age'].value_counts()\n",
    "age_df = pd.DataFrame({'TestAge':test_age, 'ControlAge':ctrl_age})\n",
    "age_df.fillna(0, inplace = True)\n",
    "age_df['DiffCnt'] = age_df['ControlAge'] - age_df['TestAge']\n",
    "\n",
    "plt = sns.barplot(x = age_df.index, y = age_df['DiffCnt'], color = 'lightblue')\n",
    "plt.tick_params(axis='x', rotation=90)"
   ]
  },
  {
   "cell_type": "markdown",
   "id": "d8643121",
   "metadata": {},
   "source": [
    "So the reasons might be:\n",
    "- test group does not contain country 'Spain'\n",
    "- control group has more people in younger ages compared to test group."
   ]
  },
  {
   "cell_type": "code",
   "execution_count": 95,
   "id": "3a79b2a0",
   "metadata": {},
   "outputs": [
    {
     "name": "stdout",
     "output_type": "stream",
     "text": [
      "Test mean conversion rate without Uruguay:  0.043411161678422794\n",
      "Control mean conversion rate without Uruguay:  0.04829179055749524\n"
     ]
    },
    {
     "data": {
      "text/plain": [
       "Ttest_indResult(statistic=-7.353895203080277, pvalue=9.644589288899516e-14)"
      ]
     },
     "execution_count": 95,
     "metadata": {},
     "output_type": "execute_result"
    }
   ],
   "source": [
    "new_test_g = test_g[test_g['country'] != 'Spain']\n",
    "new_ctrl_g = ctrl_g[ctrl_g['country'] != 'Spain']\n",
    "print('Test mean conversion rate without Spain: ', new_test_g['conversion'].mean())\n",
    "print('Control mean conversion rate without Spain: ', new_ctrl_g['conversion'].mean())\n",
    "stats.ttest_ind(new_test_g['conversion'], new_ctrl_g['conversion'], equal_var=False, alternative = 'less')"
   ]
  },
  {
   "cell_type": "markdown",
   "id": "9f73db03",
   "metadata": {},
   "source": [
    "However, testing result suggests excluding Spain does not solve the problem. Another guess is Simpson's Paradox, where for each country, the conversion may vary, and merely aggregating the results by ignoring country is incorrect."
   ]
  },
  {
   "cell_type": "code",
   "execution_count": 96,
   "id": "3204407c",
   "metadata": {},
   "outputs": [
    {
     "name": "stdout",
     "output_type": "stream",
     "text": [
      "Argentina\n",
      "Control converted more\n"
     ]
    },
    {
     "data": {
      "text/plain": [
       "Ttest_indResult(statistic=-0.9638326839451179, pvalue=0.1675732734373433)"
      ]
     },
     "execution_count": 96,
     "metadata": {},
     "output_type": "execute_result"
    },
    {
     "name": "stdout",
     "output_type": "stream",
     "text": [
      "Bolivia\n",
      "Control converted more\n"
     ]
    },
    {
     "data": {
      "text/plain": [
       "Ttest_indResult(statistic=-0.3599581772440242, pvalue=0.35944262342255373)"
      ]
     },
     "execution_count": 96,
     "metadata": {},
     "output_type": "execute_result"
    },
    {
     "name": "stdout",
     "output_type": "stream",
     "text": [
      "Chile\n",
      "Test converted more\n"
     ]
    },
    {
     "data": {
      "text/plain": [
       "Ttest_indResult(statistic=1.030372864438366, pvalue=0.8485761784577766)"
      ]
     },
     "execution_count": 96,
     "metadata": {},
     "output_type": "execute_result"
    },
    {
     "name": "stdout",
     "output_type": "stream",
     "text": [
      "Colombia\n",
      "Control converted more\n"
     ]
    },
    {
     "data": {
      "text/plain": [
       "Ttest_indResult(statistic=-0.7999917822370824, pvalue=0.2118595370657057)"
      ]
     },
     "execution_count": 96,
     "metadata": {},
     "output_type": "execute_result"
    },
    {
     "name": "stdout",
     "output_type": "stream",
     "text": [
      "Costa Rica\n",
      "Test converted more\n"
     ]
    },
    {
     "data": {
      "text/plain": [
       "Ttest_indResult(statistic=0.40176067651471453, pvalue=0.6560618231463007)"
      ]
     },
     "execution_count": 96,
     "metadata": {},
     "output_type": "execute_result"
    },
    {
     "name": "stdout",
     "output_type": "stream",
     "text": [
      "Ecuador\n",
      "Control converted more\n"
     ]
    },
    {
     "data": {
      "text/plain": [
       "Ttest_indResult(statistic=-0.04825742619891805, pvalue=0.4807558453003311)"
      ]
     },
     "execution_count": 96,
     "metadata": {},
     "output_type": "execute_result"
    },
    {
     "name": "stdout",
     "output_type": "stream",
     "text": [
      "El Salvador\n",
      "Control converted more\n"
     ]
    },
    {
     "data": {
      "text/plain": [
       "Ttest_indResult(statistic=-1.1549940887832975, pvalue=0.1240633371633339)"
      ]
     },
     "execution_count": 96,
     "metadata": {},
     "output_type": "execute_result"
    },
    {
     "name": "stdout",
     "output_type": "stream",
     "text": [
      "Guatemala\n",
      "Control converted more\n"
     ]
    },
    {
     "data": {
      "text/plain": [
       "Ttest_indResult(statistic=-0.564963151462051, pvalue=0.28605360409560343)"
      ]
     },
     "execution_count": 96,
     "metadata": {},
     "output_type": "execute_result"
    },
    {
     "name": "stdout",
     "output_type": "stream",
     "text": [
      "Honduras\n",
      "Control converted more\n"
     ]
    },
    {
     "data": {
      "text/plain": [
       "Ttest_indResult(statistic=-0.7201328432821794, pvalue=0.2357314282628793)"
      ]
     },
     "execution_count": 96,
     "metadata": {},
     "output_type": "execute_result"
    },
    {
     "name": "stdout",
     "output_type": "stream",
     "text": [
      "Mexico\n",
      "Test converted more\n"
     ]
    },
    {
     "data": {
      "text/plain": [
       "Ttest_indResult(statistic=1.3866735952325449, pvalue=0.9172281389448017)"
      ]
     },
     "execution_count": 96,
     "metadata": {},
     "output_type": "execute_result"
    },
    {
     "name": "stdout",
     "output_type": "stream",
     "text": [
      "Nicaragua\n",
      "Test converted more\n"
     ]
    },
    {
     "data": {
      "text/plain": [
       "Ttest_indResult(statistic=0.27880850314757355, pvalue=0.6097998070547603)"
      ]
     },
     "execution_count": 96,
     "metadata": {},
     "output_type": "execute_result"
    },
    {
     "name": "stdout",
     "output_type": "stream",
     "text": [
      "Panama\n",
      "Test converted more\n"
     ]
    },
    {
     "data": {
      "text/plain": [
       "Ttest_indResult(statistic=0.378167043801935, pvalue=0.6473365813637055)"
      ]
     },
     "execution_count": 96,
     "metadata": {},
     "output_type": "execute_result"
    },
    {
     "name": "stdout",
     "output_type": "stream",
     "text": [
      "Paraguay\n",
      "Test converted more\n"
     ]
    },
    {
     "data": {
      "text/plain": [
       "Ttest_indResult(statistic=0.14628996329799995, pvalue=0.5581517482518819)"
      ]
     },
     "execution_count": 96,
     "metadata": {},
     "output_type": "execute_result"
    },
    {
     "name": "stdout",
     "output_type": "stream",
     "text": [
      "Peru\n",
      "Test converted more\n"
     ]
    },
    {
     "data": {
      "text/plain": [
       "Ttest_indResult(statistic=0.28982358545511927, pvalue=0.6140235057423227)"
      ]
     },
     "execution_count": 96,
     "metadata": {},
     "output_type": "execute_result"
    },
    {
     "name": "stdout",
     "output_type": "stream",
     "text": [
      "Spain\n",
      "Control converted more\n"
     ]
    },
    {
     "data": {
      "text/plain": [
       "Ttest_indResult(statistic=nan, pvalue=nan)"
      ]
     },
     "execution_count": 96,
     "metadata": {},
     "output_type": "execute_result"
    },
    {
     "name": "stdout",
     "output_type": "stream",
     "text": [
      "Uruguay\n",
      "Test converted more\n"
     ]
    },
    {
     "data": {
      "text/plain": [
       "Ttest_indResult(statistic=0.15134316107212104, pvalue=0.5601180131742888)"
      ]
     },
     "execution_count": 96,
     "metadata": {},
     "output_type": "execute_result"
    },
    {
     "name": "stdout",
     "output_type": "stream",
     "text": [
      "Venezuela\n",
      "Control converted more\n"
     ]
    },
    {
     "data": {
      "text/plain": [
       "Ttest_indResult(statistic=-0.562614246909357, pvalue=0.28685076171936275)"
      ]
     },
     "execution_count": 96,
     "metadata": {},
     "output_type": "execute_result"
    }
   ],
   "source": [
    "#pd.pivot_table(df, values = 'conversion', index = 'country', columns = 'test', aggfunc = np.mean)\n",
    "# break down dataframe by country\n",
    "for country, df_country in df.groupby('country'):\n",
    "    print(country)\n",
    "    test_conversion = df_country[df_country['test'] == 1]['conversion'].mean()\n",
    "    control_conversion = df_country[df_country['test'] == 0]['conversion'].mean()\n",
    "    if test_conversion >= control_conversion:\n",
    "        print('Test converted more')\n",
    "    else:\n",
    "        print('Control converted more')\n",
    "    test = df_country[df_country['test'] == 1]\n",
    "    control = df_country[df_country['test'] == 0]\n",
    "    stats.ttest_ind(test['conversion'], control['conversion'], equal_var=False, alternative = 'less')"
   ]
  },
  {
   "cell_type": "markdown",
   "id": "f8d8ef9b",
   "metadata": {},
   "source": [
    "It's harder to eliminate the impact of age. One possible way is regress Conversion ~ D(Test/Control) + Age to see the significance of the variables.  \n",
    "Re-sample from the population is not that correct because the difference already exists for the data."
   ]
  },
  {
   "cell_type": "markdown",
   "id": "e3f85bf9",
   "metadata": {},
   "source": [
    "### Design an algorithm that would return FALSE if the same problem is happening in the future and TRUE if everything is good and the results can be trusted"
   ]
  },
  {
   "cell_type": "markdown",
   "id": "b8adb963",
   "metadata": {},
   "source": [
    "The problem we detect is Simpson's Paradox, which is, sub-group's test result is different from the population's test result. We assume in the future we still use t-test to address the problem."
   ]
  },
  {
   "cell_type": "code",
   "execution_count": 100,
   "id": "153fca07",
   "metadata": {},
   "outputs": [],
   "source": [
    "res = stats.ttest_ind(test_g['conversion'], ctrl_g['conversion'], equal_var=False, alternative = 'less')"
   ]
  },
  {
   "cell_type": "code",
   "execution_count": 102,
   "id": "517c63ca",
   "metadata": {},
   "outputs": [
    {
     "data": {
      "text/plain": [
       "5.1560495306389165e-75"
      ]
     },
     "execution_count": 102,
     "metadata": {},
     "output_type": "execute_result"
    }
   ],
   "source": [
    "res.pvalue\n",
    "res.statistic"
   ]
  },
  {
   "cell_type": "code",
   "execution_count": null,
   "id": "21f665f6",
   "metadata": {},
   "outputs": [],
   "source": [
    "def detect_subgroup_effect(data, target, feature, alpha=0.05, alternative='two-sided'):\n",
    "    '''\n",
    "    data: test result data\n",
    "    target: target column, in our case, it is 'conversion'\n",
    "    feature: the categorical feature we suspect to have the simpson's paradox, for example, country in our case\n",
    "    we assume using 2 indpt t-tests\n",
    "    alpha: significance level  \n",
    "    alternative: t-test setting, we can set less, or greater\n",
    "    '''\n",
    "    # first calculate the total result\n",
    "    test = data[data['test'] == 1]\n",
    "    control = data[data['test'] == 0]\n",
    "    total_res = stats.ttest_ind(test[target], ctrl[target], equal_var=False, alternative = alternative)\n",
    "    total_p = total_res.pvalue\n",
    "    total_stat = total_res.statistic\n",
    "    if total_p < alpha:\n",
    "        print('Total test is significant')\n",
    "    else:\n",
    "        print('Total test is insignificant')\n",
    "    \n",
    "    # calculate the grouped results:\n",
    "    for fea, df_fea in df.groupby(feature):\n",
    "        f_test = df_fea[df_fea['test'] == 1]\n",
    "        f_control = df_fea[df_fea['control'] == 0]\n",
    "        res = stats.ttest_ind(f_test[target], f_ctrl[target], equal_var=False, alternative = alternative)\n",
    "        if total_stat * res.statistic >= 0:\n",
    "            print('{} has same trend in test/control group as total'.format(fea))\n",
    "        else: \n",
    "            print('{} differs in trend in test/control group as total'.format(fea))\n",
    "        \n",
    "        if (total_p < alpha and res.pvalue > alpha) or (total_p >= alpha and res.pvalue < alpha):\n",
    "            print('Subgroup {} is insiginifcant, inconsistent in test result!'.format(fea))\n",
    "            return False\n",
    "    \n",
    "    return True"
   ]
  }
 ],
 "metadata": {
  "kernelspec": {
   "display_name": "Python 3",
   "language": "python",
   "name": "python3"
  },
  "language_info": {
   "codemirror_mode": {
    "name": "ipython",
    "version": 3
   },
   "file_extension": ".py",
   "mimetype": "text/x-python",
   "name": "python",
   "nbconvert_exporter": "python",
   "pygments_lexer": "ipython3",
   "version": "3.8.8"
  }
 },
 "nbformat": 4,
 "nbformat_minor": 5
}
