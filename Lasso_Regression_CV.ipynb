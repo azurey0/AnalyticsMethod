{
 "cells": [
  {
   "cell_type": "markdown",
   "id": "1af6d6f6",
   "metadata": {},
   "source": [
    "## Object: predict the 'mpg’ for a car using the dataset"
   ]
  },
  {
   "cell_type": "code",
   "execution_count": 2,
   "id": "a8c12337",
   "metadata": {},
   "outputs": [],
   "source": [
    "import pandas as  pd\n",
    "import numpy as np\n",
    "from sklearn.model_selection import train_test_split\n",
    "from sklearn import linear_model\n",
    "from sklearn.model_selection import KFold\n",
    "from sklearn import model_selection\n",
    "import math\n",
    "\n",
    "from IPython.core.interactiveshell import InteractiveShell\n",
    "InteractiveShell.ast_node_interactivity = \"all\""
   ]
  },
  {
   "cell_type": "code",
   "execution_count": 3,
   "id": "d2b260a6",
   "metadata": {},
   "outputs": [
    {
     "data": {
      "text/html": [
       "<div>\n",
       "<style scoped>\n",
       "    .dataframe tbody tr th:only-of-type {\n",
       "        vertical-align: middle;\n",
       "    }\n",
       "\n",
       "    .dataframe tbody tr th {\n",
       "        vertical-align: top;\n",
       "    }\n",
       "\n",
       "    .dataframe thead th {\n",
       "        text-align: right;\n",
       "    }\n",
       "</style>\n",
       "<table border=\"1\" class=\"dataframe\">\n",
       "  <thead>\n",
       "    <tr style=\"text-align: right;\">\n",
       "      <th></th>\n",
       "      <th>Unnamed: 0</th>\n",
       "      <th>mpg</th>\n",
       "      <th>cylinders</th>\n",
       "      <th>displacement</th>\n",
       "      <th>horsepower</th>\n",
       "      <th>weight</th>\n",
       "      <th>acceleration</th>\n",
       "      <th>model year</th>\n",
       "      <th>origin</th>\n",
       "    </tr>\n",
       "  </thead>\n",
       "  <tbody>\n",
       "    <tr>\n",
       "      <th>0</th>\n",
       "      <td>0</td>\n",
       "      <td>18.0</td>\n",
       "      <td>8</td>\n",
       "      <td>307.0</td>\n",
       "      <td>130.0</td>\n",
       "      <td>3504</td>\n",
       "      <td>12.0</td>\n",
       "      <td>70</td>\n",
       "      <td>1</td>\n",
       "    </tr>\n",
       "    <tr>\n",
       "      <th>1</th>\n",
       "      <td>1</td>\n",
       "      <td>15.0</td>\n",
       "      <td>8</td>\n",
       "      <td>350.0</td>\n",
       "      <td>165.0</td>\n",
       "      <td>3693</td>\n",
       "      <td>11.5</td>\n",
       "      <td>70</td>\n",
       "      <td>1</td>\n",
       "    </tr>\n",
       "    <tr>\n",
       "      <th>2</th>\n",
       "      <td>2</td>\n",
       "      <td>18.0</td>\n",
       "      <td>8</td>\n",
       "      <td>318.0</td>\n",
       "      <td>150.0</td>\n",
       "      <td>3436</td>\n",
       "      <td>11.0</td>\n",
       "      <td>70</td>\n",
       "      <td>1</td>\n",
       "    </tr>\n",
       "    <tr>\n",
       "      <th>3</th>\n",
       "      <td>3</td>\n",
       "      <td>16.0</td>\n",
       "      <td>8</td>\n",
       "      <td>304.0</td>\n",
       "      <td>150.0</td>\n",
       "      <td>3433</td>\n",
       "      <td>12.0</td>\n",
       "      <td>70</td>\n",
       "      <td>1</td>\n",
       "    </tr>\n",
       "    <tr>\n",
       "      <th>4</th>\n",
       "      <td>4</td>\n",
       "      <td>17.0</td>\n",
       "      <td>8</td>\n",
       "      <td>302.0</td>\n",
       "      <td>140.0</td>\n",
       "      <td>3449</td>\n",
       "      <td>10.5</td>\n",
       "      <td>70</td>\n",
       "      <td>1</td>\n",
       "    </tr>\n",
       "  </tbody>\n",
       "</table>\n",
       "</div>"
      ],
      "text/plain": [
       "   Unnamed: 0   mpg  cylinders  displacement  horsepower  weight  \\\n",
       "0           0  18.0          8         307.0       130.0    3504   \n",
       "1           1  15.0          8         350.0       165.0    3693   \n",
       "2           2  18.0          8         318.0       150.0    3436   \n",
       "3           3  16.0          8         304.0       150.0    3433   \n",
       "4           4  17.0          8         302.0       140.0    3449   \n",
       "\n",
       "   acceleration  model year  origin  \n",
       "0          12.0          70       1  \n",
       "1          11.5          70       1  \n",
       "2          11.0          70       1  \n",
       "3          12.0          70       1  \n",
       "4          10.5          70       1  "
      ]
     },
     "execution_count": 3,
     "metadata": {},
     "output_type": "execute_result"
    }
   ],
   "source": [
    "df = pd.read_csv(\"assignment4.csv\")\n",
    "df[:5]"
   ]
  },
  {
   "cell_type": "code",
   "execution_count": 4,
   "id": "67cb356e",
   "metadata": {},
   "outputs": [
    {
     "data": {
      "text/plain": [
       "(398,)"
      ]
     },
     "execution_count": 4,
     "metadata": {},
     "output_type": "execute_result"
    },
    {
     "data": {
      "text/plain": [
       "(398, 7)"
      ]
     },
     "execution_count": 4,
     "metadata": {},
     "output_type": "execute_result"
    }
   ],
   "source": [
    "y = df['mpg']\n",
    "x = df.drop(['mpg','Unnamed: 0'], axis = 1)\n",
    "y.shape\n",
    "x.shape"
   ]
  },
  {
   "cell_type": "markdown",
   "id": "6d026436",
   "metadata": {},
   "source": [
    "### Q1 Build Lasso model\n",
    " Using the dataset, create Lasso regression models to predict the ‘mpg’ for a car using 20% and 80% of the training data for the 2 models."
   ]
  },
  {
   "cell_type": "code",
   "execution_count": 5,
   "id": "755602fb",
   "metadata": {},
   "outputs": [],
   "source": [
    "x_train_1, x_test_1, y_train_1, y_test_1 = train_test_split(x, y, test_size = 0.2, random_state = 42)\n",
    "x_train_2, x_test_2, y_train_2, y_test_2 = train_test_split(x, y, test_size = 0.8, random_state = 42)"
   ]
  },
  {
   "cell_type": "code",
   "execution_count": 6,
   "id": "e3cd4060",
   "metadata": {},
   "outputs": [],
   "source": [
    "lasso = linear_model.Lasso(normalize=False)\n",
    "model_1 = lasso.fit(x_train_1, y_train_1)\n",
    "model_2 = lasso.fit(x_train_2, y_train_2)"
   ]
  },
  {
   "cell_type": "markdown",
   "id": "a498fe00",
   "metadata": {},
   "source": [
    "The model with 80% of test data gives lower R square and larger mean squared error, which is reasonable."
   ]
  },
  {
   "cell_type": "code",
   "execution_count": 7,
   "id": "fdf76e58",
   "metadata": {},
   "outputs": [
    {
     "data": {
      "text/plain": [
       "(0.805534185880104, 0.7895974581116371)"
      ]
     },
     "execution_count": 7,
     "metadata": {},
     "output_type": "execute_result"
    }
   ],
   "source": [
    "## the R-score of the models\n",
    "pred_1 = model_1.predict(x_test_1)\n",
    "pred_2 = model_2.predict(x_test_2)\n",
    "score_1 = model_1.score(x_test_1, y_test_1)\n",
    "score_2 = model_2.score(x_test_2, y_test_2)\n",
    "score_1, score_2"
   ]
  },
  {
   "cell_type": "code",
   "execution_count": 8,
   "id": "a6d2c3dc",
   "metadata": {},
   "outputs": [
    {
     "data": {
      "text/plain": [
       "(10.455735256175346, 12.899885973839295)"
      ]
     },
     "execution_count": 8,
     "metadata": {},
     "output_type": "execute_result"
    }
   ],
   "source": [
    "# the mean squared error of the models\n",
    "from sklearn.metrics import mean_squared_error\n",
    "mean_squared_error(pred_1, y_test_1), mean_squared_error(pred_2, y_test_2)"
   ]
  },
  {
   "cell_type": "code",
   "execution_count": 9,
   "id": "12fe24f7",
   "metadata": {},
   "outputs": [
    {
     "data": {
      "text/plain": [
       "(array([-0.        , -0.00562763, -0.02435025, -0.00598054,  0.        ,\n",
       "         0.61970055, -0.        ]),\n",
       " array([-0.        , -0.00562763, -0.02435025, -0.00598054,  0.        ,\n",
       "         0.61970055, -0.        ]))"
      ]
     },
     "execution_count": 9,
     "metadata": {},
     "output_type": "execute_result"
    }
   ],
   "source": [
    "# the coefficients of the models\n",
    "model_1.coef_, model_2.coef_"
   ]
  },
  {
   "cell_type": "code",
   "execution_count": 10,
   "id": "9aecbf48",
   "metadata": {},
   "outputs": [],
   "source": [
    "import matplotlib.pyplot as plt\n",
    "def plot_model(y_true, y_pred):\n",
    "    x_ax = range(len(y_true))\n",
    "    plt.scatter(x_ax, y_true, s=5, color=\"blue\", label=\"original\")\n",
    "    plt.plot(x_ax, y_pred, lw=0.8, color=\"red\", label=\"predicted\")\n",
    "    plt.legend()\n",
    "    plt.show()"
   ]
  },
  {
   "cell_type": "code",
   "execution_count": 11,
   "id": "8e1e97fc",
   "metadata": {},
   "outputs": [
    {
     "data": {
      "image/png": "[encoded data removed]",
      "text/plain": [
       "<Figure size 432x288 with 1 Axes>"
      ]
     },
     "metadata": {
      "needs_background": "light"
     },
     "output_type": "display_data"
    },
    {
     "data": {
      "image/png": "[encoded data removed]",
      "text/plain": [
       "<Figure size 432x288 with 1 Axes>"
      ]
     },
     "metadata": {
      "needs_background": "light"
     },
     "output_type": "display_data"
    }
   ],
   "source": [
    "# plot the prediction\n",
    "plot_model(y_test_1, pred_1)\n",
    "plot_model(y_test_2, pred_2)"
   ]
  },
  {
   "cell_type": "markdown",
   "id": "c2043eef",
   "metadata": {},
   "source": [
    "### Q2 Selecting Lasso via AIC, BIC"
   ]
  },
  {
   "cell_type": "markdown",
   "id": "436d5c4c",
   "metadata": {},
   "source": [
    "Using LassoLarsIC to choose the alpha that minimizes the AIC, BIC score."
   ]
  },
  {
   "cell_type": "code",
   "execution_count": 12,
   "id": "a9ca51c7",
   "metadata": {},
   "outputs": [
    {
     "data": {
      "text/plain": [
       "LassoLarsIC(normalize=False)"
      ]
     },
     "execution_count": 12,
     "metadata": {},
     "output_type": "execute_result"
    },
    {
     "data": {
      "text/plain": [
       "LassoLarsIC(criterion='bic', normalize=False)"
      ]
     },
     "execution_count": 12,
     "metadata": {},
     "output_type": "execute_result"
    },
    {
     "data": {
      "text/html": [
       "<style  type=\"text/css\" >\n",
       "#T_3c937_row5_col0,#T_3c937_row5_col1{\n",
       "            font-weight:  bold;\n",
       "        }</style><table id=\"T_3c937_\" ><thead>    <tr>        <th class=\"blank level0\" ></th>        <th class=\"col_heading level0 col0\" >AIC criterion</th>        <th class=\"col_heading level0 col1\" >BIC criterion</th>    </tr>    <tr>        <th class=\"index_name level0\" >alphas</th>        <th class=\"blank\" ></th>        <th class=\"blank\" ></th>    </tr></thead><tbody>\n",
       "                <tr>\n",
       "                        <th id=\"T_3c937_level0_row0\" class=\"row_heading level0 row0\" >5498.137864404097</th>\n",
       "                        <td id=\"T_3c937_row0_col0\" class=\"data row0 col0\" >318.000000</td>\n",
       "                        <td id=\"T_3c937_row0_col1\" class=\"data row0 col1\" >318.000000</td>\n",
       "            </tr>\n",
       "            <tr>\n",
       "                        <th id=\"T_3c937_level0_row1\" class=\"row_heading level0 row1\" >29.9100311325332</th>\n",
       "                        <td id=\"T_3c937_row1_col0\" class=\"data row1 col0\" >102.341862</td>\n",
       "                        <td id=\"T_3c937_row1_col1\" class=\"data row1 col1\" >106.103913</td>\n",
       "            </tr>\n",
       "            <tr>\n",
       "                        <th id=\"T_3c937_level0_row2\" class=\"row_heading level0 row2\" >15.317601984549334</th>\n",
       "                        <td id=\"T_3c937_row2_col0\" class=\"data row2 col0\" >102.509917</td>\n",
       "                        <td id=\"T_3c937_row2_col1\" class=\"data row2 col1\" >110.034020</td>\n",
       "            </tr>\n",
       "            <tr>\n",
       "                        <th id=\"T_3c937_level0_row3\" class=\"row_heading level0 row3\" >8.671283499242495</th>\n",
       "                        <td id=\"T_3c937_row3_col0\" class=\"data row3 col0\" >102.507170</td>\n",
       "                        <td id=\"T_3c937_row3_col1\" class=\"data row3 col1\" >113.793325</td>\n",
       "            </tr>\n",
       "            <tr>\n",
       "                        <th id=\"T_3c937_level0_row4\" class=\"row_heading level0 row4\" >1.4594024648173651</th>\n",
       "                        <td id=\"T_3c937_row4_col0\" class=\"data row4 col0\" >69.429610</td>\n",
       "                        <td id=\"T_3c937_row4_col1\" class=\"data row4 col1\" >80.715764</td>\n",
       "            </tr>\n",
       "            <tr>\n",
       "                        <th id=\"T_3c937_level0_row5\" class=\"row_heading level0 row5\" >0.5749674799607084</th>\n",
       "                        <td id=\"T_3c937_row5_col0\" class=\"data row5 col0\" >68.629396</td>\n",
       "                        <td id=\"T_3c937_row5_col1\" class=\"data row5 col1\" >79.915550</td>\n",
       "            </tr>\n",
       "            <tr>\n",
       "                        <th id=\"T_3c937_level0_row6\" class=\"row_heading level0 row6\" >0.47722511900920256</th>\n",
       "                        <td id=\"T_3c937_row6_col0\" class=\"data row6 col0\" >70.578361</td>\n",
       "                        <td id=\"T_3c937_row6_col1\" class=\"data row6 col1\" >85.626566</td>\n",
       "            </tr>\n",
       "            <tr>\n",
       "                        <th id=\"T_3c937_level0_row7\" class=\"row_heading level0 row7\" >0.23634831843467718</th>\n",
       "                        <td id=\"T_3c937_row7_col0\" class=\"data row7 col0\" >70.068392</td>\n",
       "                        <td id=\"T_3c937_row7_col1\" class=\"data row7 col1\" >88.878649</td>\n",
       "            </tr>\n",
       "            <tr>\n",
       "                        <th id=\"T_3c937_level0_row8\" class=\"row_heading level0 row8\" >0.03600885230687332</th>\n",
       "                        <td id=\"T_3c937_row8_col0\" class=\"data row8 col0\" >71.195057</td>\n",
       "                        <td id=\"T_3c937_row8_col1\" class=\"data row8 col1\" >93.767365</td>\n",
       "            </tr>\n",
       "            <tr>\n",
       "                        <th id=\"T_3c937_level0_row9\" class=\"row_heading level0 row9\" >0.0</th>\n",
       "                        <td id=\"T_3c937_row9_col0\" class=\"data row9 col0\" >73.142295</td>\n",
       "                        <td id=\"T_3c937_row9_col1\" class=\"data row9 col1\" >99.476655</td>\n",
       "            </tr>\n",
       "    </tbody></table>"
      ],
      "text/plain": [
       "<pandas.io.formats.style.Styler at 0x249703f51c0>"
      ]
     },
     "execution_count": 12,
     "metadata": {},
     "output_type": "execute_result"
    }
   ],
   "source": [
    "from sklearn.linear_model import LassoLarsIC\n",
    "\n",
    "lasso_aic = LassoLarsIC(criterion = \"aic\", normalize=False)\n",
    "lasso_aic.fit(x_train_1, y_train_1)\n",
    "lasso_bic = LassoLarsIC(criterion = \"bic\", normalize=False)\n",
    "lasso_bic.fit(x_train_1, y_train_1)\n",
    "\n",
    "results = pd.DataFrame(\n",
    "{\n",
    "    \"alphas\": lasso_aic.alphas_,\n",
    "    \"AIC criterion\": lasso_aic.criterion_,\n",
    "    \"BIC criterion\": lasso_bic.criterion_\n",
    "}).set_index(\"alphas\")\n",
    "\n",
    "def highlight_min(x):\n",
    "    x_min = x.min()\n",
    "    return [\"font-weight: bold\" if v == x_min else \"\" for v in x]\n",
    "\n",
    "\n",
    "results.style.apply(highlight_min)"
   ]
  },
  {
   "cell_type": "code",
   "execution_count": 13,
   "id": "2db54c55",
   "metadata": {},
   "outputs": [
    {
     "data": {
      "text/plain": [
       "<matplotlib.collections.LineCollection at 0x249760cb970>"
      ]
     },
     "execution_count": 13,
     "metadata": {},
     "output_type": "execute_result"
    },
    {
     "data": {
      "text/plain": [
       "<matplotlib.collections.LineCollection at 0x249761697c0>"
      ]
     },
     "execution_count": 13,
     "metadata": {},
     "output_type": "execute_result"
    },
    {
     "data": {
      "text/plain": [
       "Text(0.5, 0, '$\\\\alpha$')"
      ]
     },
     "execution_count": 13,
     "metadata": {},
     "output_type": "execute_result"
    },
    {
     "data": {
      "text/plain": [
       "Text(0, 0.5, 'criterion')"
      ]
     },
     "execution_count": 13,
     "metadata": {},
     "output_type": "execute_result"
    },
    {
     "data": {
      "text/plain": [
       "<matplotlib.legend.Legend at 0x2497618bca0>"
      ]
     },
     "execution_count": 13,
     "metadata": {},
     "output_type": "execute_result"
    },
    {
     "data": {
      "image/png": "[encoded data removed]",
      "text/plain": [
       "<Figure size 432x288 with 1 Axes>"
      ]
     },
     "metadata": {
      "needs_background": "light"
     },
     "output_type": "display_data"
    }
   ],
   "source": [
    "alpha_aic = lasso_aic.alpha_\n",
    "alpha_bic = lasso_bic.alpha_\n",
    "ax = results.plot()\n",
    "ax.vlines(\n",
    "    alpha_aic,\n",
    "    results[\"AIC criterion\"].min(),\n",
    "    results[\"AIC criterion\"].max(),\n",
    "    label=\"alpha: AIC estimate\",\n",
    "    linestyles=\"--\",\n",
    "    color=\"tab:blue\",\n",
    ")\n",
    "ax.vlines(\n",
    "    alpha_bic,\n",
    "    results[\"BIC criterion\"].min(),\n",
    "    results[\"BIC criterion\"].max(),\n",
    "    label=\"alpha: BIC estimate\",\n",
    "    linestyle=\"--\",\n",
    "    color=\"tab:orange\",\n",
    ")\n",
    "ax.set_xlabel(r\"$\\alpha$\")\n",
    "ax.set_ylabel(\"criterion\")\n",
    "ax.set_xscale(\"log\")\n",
    "ax.legend()\n",
    "_ = ax.set_title(\n",
    "    f\"Information-criterion for model selection\"\n",
    ")"
   ]
  },
  {
   "cell_type": "markdown",
   "id": "b128d208",
   "metadata": {},
   "source": [
    "Build the lasso regression model using alpha that minimizes AIC and BIC:"
   ]
  },
  {
   "cell_type": "code",
   "execution_count": 14,
   "id": "8d6e14f6",
   "metadata": {},
   "outputs": [
    {
     "data": {
      "text/plain": [
       "(0.7229777891046785, 0.6914304963592831)"
      ]
     },
     "execution_count": 14,
     "metadata": {},
     "output_type": "execute_result"
    },
    {
     "data": {
      "text/plain": [
       "(0.805534185880104, 0.7895974581116371)"
      ]
     },
     "execution_count": 14,
     "metadata": {},
     "output_type": "execute_result"
    }
   ],
   "source": [
    "min_alpha = results['AIC criterion'].min()\n",
    "lasso_best = linear_model.Lasso(alpha=min_alpha, normalize=False)\n",
    "model_1_r = lasso_best.fit(x_train_1, y_train_1)\n",
    "model_2_r = lasso_best.fit(x_train_2, y_train_2)\n",
    "score_1_r = model_1_r.score(x_test_1, y_test_1)\n",
    "score_2_r = model_2_r.score(x_test_2, y_test_2)\n",
    "score_1_r, score_2_r\n",
    "score_1, score_2"
   ]
  },
  {
   "cell_type": "markdown",
   "id": "5c216893",
   "metadata": {},
   "source": [
    "View from the result above, after applying the best alpha, the two models' R square value increased by 8% and 9% respectively."
   ]
  },
  {
   "cell_type": "markdown",
   "id": "a5fa2263",
   "metadata": {},
   "source": [
    "### Q3 Simple regression model with cross validation"
   ]
  },
  {
   "cell_type": "code",
   "execution_count": 15,
   "id": "17391ed7",
   "metadata": {},
   "outputs": [
    {
     "data": {
      "text/plain": [
       "(array([0.76408233, 0.878252  , 0.74826606, 0.7842487 , 0.76867413,\n",
       "        0.83045557, 0.79895091, 0.75353271, 0.79874784, 0.82806524]),\n",
       " array([0.01215688, 0.81145597, 0.7149997 , 0.71903632, 0.39156655,\n",
       "        0.90644618, 0.81453197, 0.39169906, 0.86669767, 0.74193072]))"
      ]
     },
     "execution_count": 15,
     "metadata": {},
     "output_type": "execute_result"
    }
   ],
   "source": [
    "lm = linear_model.LinearRegression()\n",
    "folds = KFold(n_splits = 10, shuffle = True, random_state = 42)\n",
    "scores_1 = model_selection.cross_val_score(lm, x_train_1, y_train_1, scoring = 'r2', cv = folds)\n",
    "scores_2 = model_selection.cross_val_score(lm, x_train_2, y_train_2, scoring = 'r2', cv = folds)\n",
    "scores_1, scores_2"
   ]
  },
  {
   "cell_type": "markdown",
   "id": "1a89524d",
   "metadata": {},
   "source": [
    "For the model 2, it has a train-test set with R square over 91%, which is much more higher than lasso regression result. Overall cross validation seems to give better results in R square."
   ]
  },
  {
   "cell_type": "code",
   "execution_count": 16,
   "id": "cdccd5c7",
   "metadata": {},
   "outputs": [],
   "source": [
    "# predictions of cv\n",
    "pred_cv = model_selection.cross_val_predict(lm, x, y, cv = folds)"
   ]
  },
  {
   "cell_type": "code",
   "execution_count": 28,
   "id": "c6485a20",
   "metadata": {},
   "outputs": [
    {
     "data": {
      "text/plain": [
       "(array([ 3.,  1.,  4.,  3., 13.,  8., 11.,  8.,  9., 13., 11., 13.,  6.,\n",
       "        12., 24., 18., 22., 20., 17., 29., 24., 16., 23., 16., 21., 20.,\n",
       "         8., 10.,  7.,  8.]),\n",
       " array([ 5.87420667,  6.89907521,  7.92394375,  8.94881229,  9.97368083,\n",
       "        10.99854937, 12.02341791, 13.04828645, 14.07315499, 15.09802353,\n",
       "        16.12289207, 17.14776061, 18.17262915, 19.19749769, 20.22236623,\n",
       "        21.24723477, 22.27210331, 23.29697185, 24.32184039, 25.34670894,\n",
       "        26.37157748, 27.39644602, 28.42131456, 29.4461831 , 30.47105164,\n",
       "        31.49592018, 32.52078872, 33.54565726, 34.5705258 , 35.59539434,\n",
       "        36.62026288]),\n",
       " <BarContainer object of 30 artists>)"
      ]
     },
     "execution_count": 28,
     "metadata": {},
     "output_type": "execute_result"
    },
    {
     "data": {
      "image/png": "[encoded data removed]",
      "text/plain": [
       "<Figure size 432x288 with 1 Axes>"
      ]
     },
     "metadata": {
      "needs_background": "light"
     },
     "output_type": "display_data"
    }
   ],
   "source": [
    "plt.hist(pred_cv, bins =30)\n",
    "plt.show()"
   ]
  },
  {
   "cell_type": "markdown",
   "id": "155d8b2c",
   "metadata": {},
   "source": [
    "Viewing from the plot directly, there seems to exists heteroskedasticity problem as variance becomes smaller as y range increases."
   ]
  },
  {
   "cell_type": "code",
   "execution_count": 27,
   "id": "0b24c2a8",
   "metadata": {},
   "outputs": [
    {
     "data": {
      "image/png": "[encoded data removed]",
      "text/plain": [
       "<Figure size 432x288 with 1 Axes>"
      ]
     },
     "metadata": {
      "needs_background": "light"
     },
     "output_type": "display_data"
    }
   ],
   "source": [
    "plot_model(pred_cv, y)"
   ]
  },
  {
   "cell_type": "markdown",
   "id": "1f0c5f26",
   "metadata": {},
   "source": [
    "### Q4 AIC, AICc, BIC for lasso and simple linear regression"
   ]
  },
  {
   "cell_type": "markdown",
   "id": "274da4b3",
   "metadata": {},
   "source": [
    "Is BIC always greater than AIC?  When log(n)>2, i.e., when n > e^2, BIC will be larger. So in most cases BIC > AIC. "
   ]
  },
  {
   "cell_type": "code",
   "execution_count": 18,
   "id": "49558a37",
   "metadata": {},
   "outputs": [],
   "source": [
    "def get_metrics(n, mse, k):\n",
    "    '''\n",
    "    n: number of observations\n",
    "    mse: mean square error\n",
    "    k: number of parameters\n",
    "    '''\n",
    "    AIC = n * math.log(mse) + 2 * k\n",
    "    AICc = AIC + (2 * k * (k + 1))/(n - k - 1)\n",
    "    BIC = n * math.log(mse) + math.log(n) * k\n",
    "    \n",
    "    return 'AIC:{},  AICc:{},  BIC:{}'.format(AIC, AICc, BIC)\n"
   ]
  },
  {
   "cell_type": "code",
   "execution_count": 19,
   "id": "51875c9c",
   "metadata": {},
   "outputs": [],
   "source": [
    "# q1 mse\n",
    "q1_1_mse = 10.455735256175346\n",
    "q1_2_mse = 12.899885973839295\n",
    "q1_n1 = x_train_1.shape[0]\n",
    "q1_n2 = x_train_2.shape[0]\n",
    "\n",
    "# q2 mse\n",
    "q2_pred_1 = lasso_best.predict(x_test_1)\n",
    "q2_pred_2 = lasso_best.predict(x_test_2)\n",
    "q2_1_mse = mean_squared_error(q2_pred_1, y_test_1)\n",
    "q2_2_mse = mean_squared_error(q2_pred_2, y_test_2)\n",
    "q2_n1 = q1_n1\n",
    "q2_n2 = q1_n2\n",
    "\n",
    "# q3 mse\n",
    "q3_mse = mean_squared_error(pred_cv, y)\n",
    "q3_n = pred_cv.shape[0]\n",
    "\n",
    "k = 7"
   ]
  },
  {
   "cell_type": "code",
   "execution_count": 20,
   "id": "5cf64b1e",
   "metadata": {},
   "outputs": [
    {
     "data": {
      "text/plain": [
       "14.894499119603944"
      ]
     },
     "execution_count": 20,
     "metadata": {},
     "output_type": "execute_result"
    },
    {
     "data": {
      "text/plain": [
       "18.91855191598136"
      ]
     },
     "execution_count": 20,
     "metadata": {},
     "output_type": "execute_result"
    }
   ],
   "source": [
    "q2_1_mse\n",
    "q2_2_mse"
   ]
  },
  {
   "cell_type": "markdown",
   "id": "62a02be0",
   "metadata": {},
   "source": [
    "$AICc = AIC + \\frac{2k^2+2k}{n-k-1}$, when n is large, AICc converges to AIC. AIC in our case is very close to AICc, as our sample is large enough."
   ]
  },
  {
   "cell_type": "code",
   "execution_count": 21,
   "id": "5532af68",
   "metadata": {},
   "outputs": [
    {
     "data": {
      "text/plain": [
       "'AIC:760.3939086721615,  AICc:760.7551989947422,  BIC:786.7282683516228'"
      ]
     },
     "execution_count": 21,
     "metadata": {},
     "output_type": "execute_result"
    },
    {
     "data": {
      "text/plain": [
       "'AIC:216.02025929521238,  AICc:217.59772408394477,  BIC:232.60639426248153'"
      ]
     },
     "execution_count": 21,
     "metadata": {},
     "output_type": "execute_result"
    },
    {
     "data": {
      "text/plain": [
       "'AIC:985.4919545084712,  AICc:985.7791339956507,  BIC:1013.3971185454623'"
      ]
     },
     "execution_count": 21,
     "metadata": {},
     "output_type": "execute_result"
    }
   ],
   "source": [
    "get_metrics(q1_n1, q1_1_mse, k)\n",
    "get_metrics(q1_n2, q1_2_mse, k)\n",
    "get_metrics(q3_n, q3_mse, k)"
   ]
  },
  {
   "cell_type": "markdown",
   "id": "7ab9d18a",
   "metadata": {},
   "source": [
    "And our lasso model with best alpha gives AIC = 68.629396 and BIC = 79.915550. So the lasso model with alpha = 0.5749674799607084 is the best.\n"
   ]
  }
 ],
 "metadata": {
  "kernelspec": {
   "display_name": "Python 3",
   "language": "python",
   "name": "python3"
  },
  "language_info": {
   "codemirror_mode": {
    "name": "ipython",
    "version": 3
   },
   "file_extension": ".py",
   "mimetype": "text/x-python",
   "name": "python",
   "nbconvert_exporter": "python",
   "pygments_lexer": "ipython3",
   "version": "3.8.8"
  }
 },
 "nbformat": 4,
 "nbformat_minor": 5
}
