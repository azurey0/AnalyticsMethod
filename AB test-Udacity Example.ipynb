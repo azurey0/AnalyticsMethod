{
 "cells": [
  {
   "cell_type": "code",
   "execution_count": 5,
   "id": "8141f2e3",
   "metadata": {},
   "outputs": [],
   "source": [
    "import numpy as np\n",
    "import pandas as pd\n",
    "import math\n",
    "\n",
    "from IPython.core.interactiveshell import InteractiveShell\n",
    "InteractiveShell.ast_node_interactivity = \"all\""
   ]
  },
  {
   "cell_type": "markdown",
   "id": "d1ec34a5",
   "metadata": {},
   "source": [
    "## Expected Standard Error"
   ]
  },
  {
   "cell_type": "code",
   "execution_count": 6,
   "id": "339125ba",
   "metadata": {},
   "outputs": [
    {
     "data": {
      "text/plain": [
       "0.05494901217850908"
      ]
     },
     "execution_count": 6,
     "metadata": {},
     "output_type": "execute_result"
    },
    {
     "data": {
      "text/plain": [
       "0.015601544582488459"
      ]
     },
     "execution_count": 6,
     "metadata": {},
     "output_type": "execute_result"
    }
   ],
   "source": [
    "# historical data\n",
    "pv = 40000\n",
    "n_click = 3200\n",
    "n_enrol = 660\n",
    "p_pay_enrol = 0.53\n",
    "test_size = 5000\n",
    "\n",
    "\n",
    "# calculation\n",
    "p_enrol_click = n_enrol/n_click\n",
    "p_pay_click = p_pay_enrol * p_enrol_click # assume the two events are independent\n",
    "\n",
    "sd_retention = math.sqrt((p_pay_enrol * (1 - p_pay_enrol)) / (test_size * (n_enrol / pv)))\n",
    "sd_net_conversion = math.sqrt((p_pay_click * (1 - p_pay_click)) / (test_size * (n_click / pv)))\n",
    "sd_retention\n",
    "sd_net_conversion"
   ]
  },
  {
   "cell_type": "markdown",
   "id": "2c3f3cc5",
   "metadata": {},
   "source": [
    "## Test Size"
   ]
  },
  {
   "cell_type": "markdown",
   "id": "093274a3",
   "metadata": {},
   "source": [
    "### Stats Formula & Packages\n",
    "The formulas are specifically for 2 sample tests of proportion  \n",
    "1. Wang, H. and Chow, S.-C. 2007. Sample Size Calculation for Comparing Proportions. Wiley Encyclopedia of Clinical Trials.http://citeseerx.ist.psu.edu/viewdoc/download?doi=10.1.1.571.2708&rep=rep1&type=pdf\n",
    "$$n = \\frac{(Z_{\\alpha/2} + Z_\\beta)^2(p_1(1-p_1)+p_2(1-p_2))}{(p_1-p_2)^2}$$\n",
    "\n",
    "2. R and G\\*Power Formula https://jeffshow.com/caculate-abtest-required-sample-size.html, also in Applied Statistics and Probability for Engineers, 3rd. Douglas C. Montgomery, George C. Runger, p. 364\n",
    "$$n = \\frac{[{Z_{\\alpha/2}\\sqrt{2\\frac{(p_1+p_2)}{2}(1-\\frac{(p_1+p_2)}{2})}+Z_\\beta\\sqrt{p_1(1-p_1)+p_2(1-p_2)}}]^2}{(p_1-p_2)^2}$$\n",
    "\n",
    "The two above give almost identical results\n",
    "\n",
    "3. statsmodels.stats.proportion  \n",
    "Gives small numbers, see plot below.\n",
    "\n",
    "**Finite population correction**  \n",
    "https://select-statistics.co.uk/calculators/sample-size-calculator-two-proportions/\n",
    "\"Most sample size calculations assume that the population is large (or even infinite). With a finite, small population, the variability of the sample is actually less than expected, and therefore a “finite population correction”, FPC, can be applied to account for this greater efficiency in the sampling process.\n",
    "\n",
    "For a large population (greater than 100,000 or so), there’s not normally any correction needed to the standard sample size formulae available. For large, finite populations, the FPC will have little effect and the sample size will be similar to that for an infinite population. \n",
    "\n",
    "However, the effect of the FPC will be noticeable if one or both of the population sizes (N’s) is small relative to n in the formula above.\"\n",
    "\n",
    "The correction result is :\n",
    "$$n = \\frac{X*A}{1+X*B}$$\n",
    "where $X = \\frac{{Z_{\\alpha/2}+Z_\\beta}^2}{{p_1-p_2}^2}$, $A = \\frac{N_1}{N_1-1}(p_1*(1-p_1))+\\frac{N_2}{N_2-1}(p_2*(1-p_2))$,\n",
    "$B=\\frac{1}{N_1-1}(p_1*(1-p_1))+\\frac{1}{N_2-1}(p_2*(1-p_2))$"
   ]
  },
  {
   "cell_type": "code",
   "execution_count": 137,
   "id": "1435f3fa",
   "metadata": {},
   "outputs": [],
   "source": [
    "def get_size(alpha, beta, baseline, min_effect):\n",
    "    '''\n",
    "    alpha: significance level\n",
    "    beta: statistical power = 1 - beta\n",
    "    baseline: baseline conversion rate, in [0,1]\n",
    "    min_effect: minimum detectable effect, in [0,1]\n",
    "    return: 4 methods of sample size calculation\n",
    "    '''\n",
    "    import scipy.stats as st\n",
    "    z_alpha = st.norm.ppf(1 - alpha / 2)\n",
    "    z_beta = st.norm.ppf(1 - beta)\n",
    "    p1 = baseline\n",
    "    p2 = baseline + min_effect\n",
    "    \n",
    "    from statsmodels.stats.power import zt_ind_solve_power\n",
    "    from statsmodels.stats.proportion import proportion_effectsize as es\n",
    "         \n",
    "    size = ((z_alpha + z_beta) ** 2 * (p1 * (1 - p1) + p2 * (1 - p2))) / (p1 - p2) ** 2\n",
    "    size2 = (z_alpha * math.sqrt((p1 + p2) * (1 - p1 + 1 - p2) * 0.5) + z_beta * math.sqrt(p1 * (1 - p1) + p2 * (1 - p2))) ** 2 / (p1 - p2) ** 2 \n",
    "    size3 = zt_ind_solve_power(effect_size=es(prop1=p1, prop2=p2), alpha=alpha, power=beta, alternative=\"two-sided\")\n",
    "    \n",
    "    return size,  size2, size3"
   ]
  },
  {
   "cell_type": "code",
   "execution_count": 139,
   "id": "7ac75cde",
   "metadata": {},
   "outputs": [],
   "source": [
    "nums = np.linspace(0.01,0.95,100)\n",
    "size_1, size_2, size_3= [],[],[]\n",
    "for i in nums:\n",
    "    num1, num2, num3 = get_size(alpha = 0.05, beta = 0.2, baseline = i, min_effect = 0.01 if (i>0.001 and i+0.01 < 1) else 0)\n",
    "    size_1.append(num1)\n",
    "    size_2.append(num2)\n",
    "    size_3.append(num3)\n",
    "\n",
    "lines = pd.DataFrame({\n",
    "    'probability':nums,\n",
    "    'size_1':size_1,\n",
    "    'size_2':size_2,\n",
    "    'size_3':size_3\n",
    "})"
   ]
  },
  {
   "cell_type": "code",
   "execution_count": 142,
   "id": "cb4c0277",
   "metadata": {
    "scrolled": true
   },
   "outputs": [
    {
     "data": {
      "text/html": [
       "<div>\n",
       "<style scoped>\n",
       "    .dataframe tbody tr th:only-of-type {\n",
       "        vertical-align: middle;\n",
       "    }\n",
       "\n",
       "    .dataframe tbody tr th {\n",
       "        vertical-align: top;\n",
       "    }\n",
       "\n",
       "    .dataframe thead th {\n",
       "        text-align: right;\n",
       "    }\n",
       "</style>\n",
       "<table border=\"1\" class=\"dataframe\">\n",
       "  <thead>\n",
       "    <tr style=\"text-align: right;\">\n",
       "      <th></th>\n",
       "      <th>probability</th>\n",
       "      <th>size_1</th>\n",
       "      <th>size_2</th>\n",
       "      <th>size_3</th>\n",
       "    </tr>\n",
       "  </thead>\n",
       "  <tbody>\n",
       "    <tr>\n",
       "      <th>0</th>\n",
       "      <td>0.010000</td>\n",
       "      <td>2315.419522</td>\n",
       "      <td>2318.164676</td>\n",
       "      <td>356.694709</td>\n",
       "    </tr>\n",
       "    <tr>\n",
       "      <th>1</th>\n",
       "      <td>0.019495</td>\n",
       "      <td>3747.046857</td>\n",
       "      <td>3749.792144</td>\n",
       "      <td>587.528984</td>\n",
       "    </tr>\n",
       "    <tr>\n",
       "      <th>2</th>\n",
       "      <td>0.028990</td>\n",
       "      <td>5150.369855</td>\n",
       "      <td>5153.115201</td>\n",
       "      <td>811.448761</td>\n",
       "    </tr>\n",
       "    <tr>\n",
       "      <th>3</th>\n",
       "      <td>0.038485</td>\n",
       "      <td>6525.388516</td>\n",
       "      <td>6528.133895</td>\n",
       "      <td>1030.086449</td>\n",
       "    </tr>\n",
       "    <tr>\n",
       "      <th>4</th>\n",
       "      <td>0.047980</td>\n",
       "      <td>7872.102841</td>\n",
       "      <td>7874.848241</td>\n",
       "      <td>1243.879111</td>\n",
       "    </tr>\n",
       "    <tr>\n",
       "      <th>...</th>\n",
       "      <td>...</td>\n",
       "      <td>...</td>\n",
       "      <td>...</td>\n",
       "      <td>...</td>\n",
       "    </tr>\n",
       "    <tr>\n",
       "      <th>95</th>\n",
       "      <td>0.912020</td>\n",
       "      <td>11941.152371</td>\n",
       "      <td>11943.897806</td>\n",
       "      <td>1888.960639</td>\n",
       "    </tr>\n",
       "    <tr>\n",
       "      <th>96</th>\n",
       "      <td>0.921515</td>\n",
       "      <td>10683.867706</td>\n",
       "      <td>10686.613134</td>\n",
       "      <td>1689.725061</td>\n",
       "    </tr>\n",
       "    <tr>\n",
       "      <th>97</th>\n",
       "      <td>0.931010</td>\n",
       "      <td>9398.278705</td>\n",
       "      <td>9401.024122</td>\n",
       "      <td>1485.937370</td>\n",
       "    </tr>\n",
       "    <tr>\n",
       "      <th>98</th>\n",
       "      <td>0.940505</td>\n",
       "      <td>8084.385367</td>\n",
       "      <td>8087.130770</td>\n",
       "      <td>1277.559547</td>\n",
       "    </tr>\n",
       "    <tr>\n",
       "      <th>99</th>\n",
       "      <td>0.950000</td>\n",
       "      <td>6742.187692</td>\n",
       "      <td>6744.933075</td>\n",
       "      <td>1064.521114</td>\n",
       "    </tr>\n",
       "  </tbody>\n",
       "</table>\n",
       "<p>100 rows × 4 columns</p>\n",
       "</div>"
      ],
      "text/plain": [
       "    probability        size_1        size_2       size_3\n",
       "0      0.010000   2315.419522   2318.164676   356.694709\n",
       "1      0.019495   3747.046857   3749.792144   587.528984\n",
       "2      0.028990   5150.369855   5153.115201   811.448761\n",
       "3      0.038485   6525.388516   6528.133895  1030.086449\n",
       "4      0.047980   7872.102841   7874.848241  1243.879111\n",
       "..          ...           ...           ...          ...\n",
       "95     0.912020  11941.152371  11943.897806  1888.960639\n",
       "96     0.921515  10683.867706  10686.613134  1689.725061\n",
       "97     0.931010   9398.278705   9401.024122  1485.937370\n",
       "98     0.940505   8084.385367   8087.130770  1277.559547\n",
       "99     0.950000   6742.187692   6744.933075  1064.521114\n",
       "\n",
       "[100 rows x 4 columns]"
      ]
     },
     "execution_count": 142,
     "metadata": {},
     "output_type": "execute_result"
    },
    {
     "data": {
      "text/plain": [
       "<AxesSubplot:xlabel='probability', ylabel='value'>"
      ]
     },
     "execution_count": 142,
     "metadata": {},
     "output_type": "execute_result"
    },
    {
     "data": {
      "image/png": "[encoded data removed]",
      "text/plain": [
       "<Figure size 432x288 with 1 Axes>"
      ]
     },
     "metadata": {
      "needs_background": "light"
     },
     "output_type": "display_data"
    }
   ],
   "source": [
    "import seaborn as sns\n",
    "lines\n",
    "sns.lineplot(x='probability', y='value', hue='variable', \n",
    "             data=pd.melt(lines, ['probability']), alpha = 0.3)"
   ]
  },
  {
   "cell_type": "code",
   "execution_count": 94,
   "id": "2565c881",
   "metadata": {},
   "outputs": [
    {
     "data": {
      "text/plain": [
       "4733446"
      ]
     },
     "execution_count": 94,
     "metadata": {},
     "output_type": "execute_result"
    }
   ],
   "source": [
    "base_retention = p_enrol_click\n",
    "base_conversion = p_pay_enrol\n",
    "retention = get_size(alpha=0.05, beta=0.2, baseline=base_retention, min_effect=0.01)\n",
    "conversion = get_size(alpha=0.05, beta=0.2, baseline=base_conversion, min_effect=0.01)\n",
    "inv_p_click =  pv/ n_click\n",
    "inv_p_enrol =  pv / n_enrol\n",
    "re_lst = [float(x) * 2 * inv_p_click for x in retention]\n",
    "conv_lst = [float(x) * 2 * inv_p_enrol for x in conversion]\n",
    "math.ceil(max(max(re_lst), max(conv_lst)))"
   ]
  },
  {
   "cell_type": "markdown",
   "id": "c4dd59f0",
   "metadata": {},
   "source": [
    "### Using standard error to calculate\n",
    "Another method is to calculate by the relationship between alpha and beta, it's possibly not restricted to 2 sample proportion test."
   ]
  },
  {
   "cell_type": "code",
   "execution_count": 102,
   "id": "a2df6fd3",
   "metadata": {},
   "outputs": [],
   "source": [
    "from scipy.stats import norm\n",
    "# Inputs:\n",
    "#   The desired alpha for a two-tailed test\n",
    "# Returns: The z-critical value\n",
    "def get_z_star(alpha):\n",
    "    return norm.ppf((1-alpha/2))\n",
    "\n",
    "# Inputs:\n",
    "#   z-star: The z-critical value\n",
    "#   s: The standard error of the metric at N=1\n",
    "#   d_min: The practical significance level\n",
    "#   N: The sample size of each group of the experiment\n",
    "# Returns: The beta value of the two-tailed test\n",
    "def get_beta(z_star,s, d_min, N):\n",
    "    SE = s /  math.sqrt(N)\n",
    "    return norm.cdf(z_star*SE,d_min,SE)\n",
    "\n",
    "# Inputs:\n",
    "#   s: The standard error of the metric with N=1 in each group\n",
    "#   d_min: The practical significance level\n",
    "#   Ns: The sample sizes to try\n",
    "#   alpha: The desired alpha level of the test\n",
    "#   beta: The desired beta level of the test\n",
    "# Returns: The smallest N out of the given Ns that will achieve the desired\n",
    "#          beta. There should be at least N samples in each group of the experiment.\n",
    "#          If none of the given Ns will work, returns -1. N is the number of\n",
    "#          samples in each group.\n",
    "def required_size(s, d_min, Ns=200000, alpha=0.05, beta=0.2):\n",
    "    z=get_z_star(alpha)\n",
    "    for N in range(1,Ns):        \n",
    "        if get_beta(z, s, d_min, N) <= beta:\n",
    "            return N\n",
    "    return -1"
   ]
  },
  {
   "cell_type": "code",
   "execution_count": 104,
   "id": "326bd7fd",
   "metadata": {},
   "outputs": [
    {
     "data": {
      "text/plain": [
       "'number of clickes needed for net_conversion'"
      ]
     },
     "execution_count": 104,
     "metadata": {},
     "output_type": "execute_result"
    },
    {
     "name": "stdout",
     "output_type": "stream",
     "text": [
      "number of clicks needed for net_conversion: 13586\n",
      "number of pageviews needed for net_conversion: 169825\n"
     ]
    }
   ],
   "source": [
    "\"\"\"number of clickes needed for net_conversion\"\"\"\n",
    "click_through_probability=0.08\n",
    "n=1 ## Start the guessing from 1\n",
    "s=math.sqrt(p_pay_click*(1-p_pay_click)/n)\n",
    "d_min=0.0075\n",
    "req=required_size(s,d_min)\n",
    "print(\"number of clicks needed for net_conversion:\",int(req))\n",
    "print(\"number of pageviews needed for net_conversion:\",int(req/click_through_probability))"
   ]
  },
  {
   "cell_type": "code",
   "execution_count": 106,
   "id": "b957ac58",
   "metadata": {},
   "outputs": [
    {
     "data": {
      "text/plain": [
       "'number of enrollment needed for retention'"
      ]
     },
     "execution_count": 106,
     "metadata": {},
     "output_type": "execute_result"
    },
    {
     "name": "stdout",
     "output_type": "stream",
     "text": [
      "number of clicks needed for retention: 19552\n",
      "number of pageviews needed for retentionn: 1184969\n"
     ]
    }
   ],
   "source": [
    "\"\"\"number of enrollment needed for retention\"\"\"\n",
    "n=1\n",
    "s=math.sqrt(p_pay_enrol*(1-p_pay_enrol)/n)\n",
    "d_min=0.01\n",
    "req=required_size(s,d_min)\n",
    "print(\"number of clicks needed for retention:\",int(req))\n",
    "print(\"number of pageviews needed for retentionn:\",int(req/(n_enrol/pv)))"
   ]
  },
  {
   "cell_type": "code",
   "execution_count": 111,
   "id": "d5163913",
   "metadata": {},
   "outputs": [],
   "source": [
    "s = math.sqrt(p_pay_enrol*(1-p_pay_enrol)/n)\n",
    "N = range(1, 20000)\n",
    "beta = []\n",
    "z_star = 1.96\n",
    "for n in N:\n",
    "    SE = s /  math.sqrt(n)\n",
    "    beta.append(norm.cdf(z_star*SE,d_min,SE))"
   ]
  },
  {
   "cell_type": "code",
   "execution_count": 114,
   "id": "c7eb3ab3",
   "metadata": {},
   "outputs": [
    {
     "data": {
      "text/plain": [
       "<AxesSubplot:xlabel='N', ylabel='beta'>"
      ]
     },
     "execution_count": 114,
     "metadata": {},
     "output_type": "execute_result"
    },
    {
     "data": {
      "image/png": "[encoded data removed]",
      "text/plain": [
       "<Figure size 432x288 with 1 Axes>"
      ]
     },
     "metadata": {
      "needs_background": "light"
     },
     "output_type": "display_data"
    }
   ],
   "source": [
    "betas = pd.DataFrame({\n",
    "    'N':N,\n",
    "    'beta':beta\n",
    "})\n",
    "\n",
    "sns.lineplot(x='N', y='beta', \n",
    "             data=betas, alpha = 0.3)"
   ]
  },
  {
   "cell_type": "markdown",
   "id": "86dba4ca",
   "metadata": {},
   "source": [
    "## Sanity Check"
   ]
  },
  {
   "cell_type": "code",
   "execution_count": 95,
   "id": "51458e78",
   "metadata": {},
   "outputs": [],
   "source": [
    "dates=['Sat, Oct 11', 'Sun, Oct 12', 'Mon, Oct 13', 'Tue, Oct 14',\n",
    "       'Wed, Oct 15', 'Thu, Oct 16', 'Fri, Oct 17', 'Sat, Oct 18',\n",
    "       'Sun, Oct 19', 'Mon, Oct 20', 'Tue, Oct 21', 'Wed, Oct 22',\n",
    "       'Thu, Oct 23', 'Fri, Oct 24', 'Sat, Oct 25', 'Sun, Oct 26',\n",
    "       'Mon, Oct 27', 'Tue, Oct 28', 'Wed, Oct 29', 'Thu, Oct 30',\n",
    "       'Fri, Oct 31', 'Sat, Nov 1', 'Sun, Nov 2', 'Mon, Nov 3',\n",
    "       'Tue, Nov 4', 'Wed, Nov 5', 'Thu, Nov 6', 'Fri, Nov 7',\n",
    "       'Sat, Nov 8', 'Sun, Nov 9', 'Mon, Nov 10', 'Tue, Nov 11',\n",
    "       'Wed, Nov 12', 'Thu, Nov 13', 'Fri, Nov 14', 'Sat, Nov 15',\n",
    "       'Sun, Nov 16']\n",
    "pageviews_cont=[ 7723,  9102, 10511,  9871, 10014,  9670,  9008,  7434,  8459,\n",
    "       10667, 10660,  9947,  8324,  9434,  8687,  8896,  9535,  9363,\n",
    "        9327,  9345,  8890,  8460,  8836,  9437,  9420,  9570,  9921,\n",
    "        9424,  9010,  9656, 10419,  9880, 10134,  9717,  9192,  8630,\n",
    "        8970]\n",
    "pageviews_exp=[ 7716,  9288, 10480,  9867,  9793,  9500,  9088,  7664,  8434,\n",
    "       10496, 10551,  9737,  8176,  9402,  8669,  8881,  9655,  9396,\n",
    "        9262,  9308,  8715,  8448,  8836,  9359,  9427,  9633,  9842,\n",
    "        9272,  8969,  9697, 10445,  9931, 10042,  9721,  9304,  8668,\n",
    "        8988]\n",
    "clicks_cont=[687, 779, 909, 836, 837, 823, 748, 632, 691, 861, 867, 838, 665,\n",
    "       673, 691, 708, 759, 736, 739, 734, 706, 681, 693, 788, 781, 805,\n",
    "       830, 781, 756, 825, 874, 830, 801, 814, 735, 743, 722]\n",
    "clicks_exp=[686, 785, 884, 827, 832, 788, 780, 652, 697, 860, 864, 801, 642,\n",
    "       697, 669, 693, 771, 736, 727, 728, 722, 695, 724, 789, 743, 808,\n",
    "       831, 767, 760, 850, 851, 831, 802, 829, 770, 724, 710]\n",
    "enrolls_cont=[134, 147, 167, 156, 163, 138, 146, 110, 131, 165, 196, 162, 127,\n",
    "       220, 176, 161, 233, 154, 196, 167, 174, 156, 206]\n",
    "enrolls_exp=[105, 116, 145, 138, 140, 129, 127,  94, 120, 153, 143, 128, 122,\n",
    "       194, 127, 153, 213, 162, 201, 207, 182, 142, 182]\n",
    "payment_cont=[ 70,  70,  95, 105,  64,  82,  76,  70,  60,  97, 105,  92,  56,\n",
    "       122, 128, 104, 124,  91,  86,  75, 101,  93,  67]\n",
    "payment_exp=[ 34,  91,  79,  92,  94,  61,  44,  62,  77,  98,  71,  70,  68,\n",
    "        94,  81, 101, 119, 120,  96,  67, 123, 100, 103]"
   ]
  },
  {
   "cell_type": "code",
   "execution_count": 99,
   "id": "00043442",
   "metadata": {},
   "outputs": [
    {
     "name": "stdout",
     "output_type": "stream",
     "text": [
      "0.4993603331193866 (0.4988204138245942, 0.5011795861754058)\n",
      "0.49953265259333723 (0.4958845713471463, 0.5041154286528536)\n"
     ]
    }
   ],
   "source": [
    "def get_CI_mean(alpha, control_cnt, expr_cnt, p):\n",
    "    '''\n",
    "    alpha: significance level\n",
    "    control_cnt: control group size\n",
    "    expr_cnt: experiment group size\n",
    "    p: point estimate\n",
    "    '''\n",
    "    sd = math.sqrt(0.5 * 0.5 / (control_cnt + expr_cnt))    \n",
    "    import scipy.stats as st\n",
    "    z_alpha = st.norm.ppf(1 - alpha / 2)\n",
    "    margin_error = sd * z_alpha\n",
    "    return(p - margin_error, p + margin_error)\n",
    "\n",
    "print(sum(pageviews_exp)/(sum(pageviews_cont)+sum(pageviews_exp)), get_CI_mean(0.05, sum(pageviews_cont), sum(pageviews_exp), 0.5))\n",
    "print(sum(clicks_exp)/(sum(clicks_cont)+sum(clicks_exp)), get_CI_mean(0.05, sum(clicks_cont), sum(clicks_exp), 0.5))"
   ]
  },
  {
   "cell_type": "code",
   "execution_count": 122,
   "id": "64a4482f",
   "metadata": {},
   "outputs": [
    {
     "data": {
      "text/plain": [
       "(-0.001295655390242568, 0.001295655390242568)"
      ]
     },
     "execution_count": 122,
     "metadata": {},
     "output_type": "execute_result"
    }
   ],
   "source": [
    "def get_CI_prop(alpha, control_true, exp_true, control_sum, exp_sum, phat):\n",
    "\n",
    "    prob_pool =  (control_true + exp_true) / (control_sum + exp_sum) \n",
    "    se = math.sqrt(prob_pool * (1 - prob_pool) * (1 / control_sum + 1 / exp_sum))\n",
    "    import scipy.stats as st\n",
    "    z_alpha = st.norm.ppf(1 - alpha / 2)\n",
    "    \n",
    "    margin_error = se * z_alpha\n",
    "    return( phat - margin_error, phat + margin_error)\n",
    "\n",
    "get_CI_prop(0.05, sum(clicks_cont), sum(clicks_exp), sum(pageviews_cont), sum(pageviews_exp), 0)"
   ]
  },
  {
   "cell_type": "markdown",
   "id": "b15b8d0f",
   "metadata": {},
   "source": [
    "## Effect Size test"
   ]
  },
  {
   "cell_type": "code",
   "execution_count": 124,
   "id": "02f25b73",
   "metadata": {},
   "outputs": [
    {
     "data": {
      "text/plain": [
       "0.031094804707142765"
      ]
     },
     "execution_count": 124,
     "metadata": {},
     "output_type": "execute_result"
    },
    {
     "data": {
      "text/plain": [
       "(0.008104858181445022, 0.05408475123284051)"
      ]
     },
     "execution_count": 124,
     "metadata": {},
     "output_type": "execute_result"
    }
   ],
   "source": [
    "### retention: enroll --> payment\n",
    "n = len(payment_exp)\n",
    "sum_payment_cont=sum(payment_cont[:n])\n",
    "sum_payment_exp=sum(payment_exp[:n])\n",
    "sum_enroll_cont=sum(enrolls_cont[:n])\n",
    "sum_enroll_exp=sum(enrolls_exp[:n])\n",
    "p_hat = sum_payment_exp / sum_enroll_exp - sum_payment_cont / sum_enroll_cont\n",
    "p_hat\n",
    "get_CI_prop(0.05, sum_payment_cont, sum_payment_exp, sum_enroll_cont, sum_enroll_exp, p_hat)"
   ]
  },
  {
   "cell_type": "code",
   "execution_count": 125,
   "id": "efdc3674",
   "metadata": {},
   "outputs": [
    {
     "data": {
      "text/plain": [
       "-0.0048737226745441675"
      ]
     },
     "execution_count": 125,
     "metadata": {},
     "output_type": "execute_result"
    },
    {
     "data": {
      "text/plain": [
       "(-0.011604500677993734, 0.0018570553289053993)"
      ]
     },
     "execution_count": 125,
     "metadata": {},
     "output_type": "execute_result"
    }
   ],
   "source": [
    "### net conversion: clicks --> payment\n",
    "n=len(enrolls_exp)\n",
    "sum_clicks_cont=sum(clicks_cont[:n])\n",
    "sum_clicks_exp=sum(clicks_exp[:n])\n",
    "sum_payment_cont=sum(payment_cont[:n])\n",
    "sum_payment_exp=sum(payment_exp[:n])\n",
    "p_hat = sum_payment_exp/sum_clicks_exp-sum_payment_cont/sum_clicks_cont\n",
    "p_hat\n",
    "get_CI_prop(0.05, sum_payment_cont, sum_payment_exp, sum_clicks_cont, sum_clicks_exp, p_hat)"
   ]
  },
  {
   "cell_type": "markdown",
   "id": "d136526f",
   "metadata": {},
   "source": [
    "## Sign Test"
   ]
  },
  {
   "cell_type": "code",
   "execution_count": 135,
   "id": "10ba780c",
   "metadata": {},
   "outputs": [
    {
     "data": {
      "text/plain": [
       "WilcoxonResult(statistic=107.0, pvalue=0.36039113998413086)"
      ]
     },
     "execution_count": 135,
     "metadata": {},
     "output_type": "execute_result"
    }
   ],
   "source": [
    "from scipy.stats import wilcoxon\n",
    "n = len(payment_exp)\n",
    "retention_exp = [x/y for x,y in zip(payment_exp[:n], enrolls_exp[:n])]\n",
    "retention_cont = [x/y for x,y in zip(payment_cont[:n], enrolls_cont[:n])]\n",
    "\n",
    "wilcoxon(retention_exp, retention_cont)"
   ]
  },
  {
   "cell_type": "code",
   "execution_count": 136,
   "id": "7b22ae14",
   "metadata": {},
   "outputs": [
    {
     "data": {
      "text/plain": [
       "WilcoxonResult(statistic=120.0, pvalue=0.6010458469390869)"
      ]
     },
     "execution_count": 136,
     "metadata": {},
     "output_type": "execute_result"
    }
   ],
   "source": [
    "n=len(enrolls_exp)\n",
    "conversion_exp = [x/y for x,y in zip(payment_exp[:n], clicks_exp[:n])]\n",
    "conversion_cont = [x/y for x,y in zip(payment_cont[:n], clicks_cont[:n])]\n",
    "\n",
    "wilcoxon(conversion_exp, conversion_cont)"
   ]
  }
 ],
 "metadata": {
  "kernelspec": {
   "display_name": "Python 3",
   "language": "python",
   "name": "python3"
  },
  "language_info": {
   "codemirror_mode": {
    "name": "ipython",
    "version": 3
   },
   "file_extension": ".py",
   "mimetype": "text/x-python",
   "name": "python",
   "nbconvert_exporter": "python",
   "pygments_lexer": "ipython3",
   "version": "3.8.8"
  }
 },
 "nbformat": 4,
 "nbformat_minor": 5
}
